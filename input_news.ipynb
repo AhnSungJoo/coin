{
 "cells": [
  {
   "cell_type": "code",
   "execution_count": 2,
   "metadata": {},
   "outputs": [
    {
     "data": {
      "text/plain": [
       "'하락'"
      ]
     },
     "execution_count": 2,
     "metadata": {},
     "output_type": "execute_result"
    }
   ],
   "source": [
    "from konlpy.tag import Twitter\n",
    "from gensim.models.word2vec import Word2Vec\n",
    "import re\n",
    "import os\n",
    "\n",
    "t=Twitter()\n",
    "\n",
    "Train_PATH='./train_txt/'\n",
    "SAVE_PATH='./train_wv/'\n",
    "\n",
    "def preprocessing(content): #전처리\n",
    "    content = re.sub('\\\\xa0', '', content)\n",
    "    content = re.sub('\\\\n', '', content)\n",
    "    content = re.sub('\\\\\\\\xa0', '', content)\n",
    "    content = re.sub('\\\\\\\\n', '', content)\n",
    "    content = re.sub('[\\{\\}\\[\\]\\/?.,;:|\\)*~`!^\\-_+<>@#$%&\\\\\\=\\(\\'\\\")]', '', content)\n",
    "    content = ' '.join(content.split())\n",
    "                     \n",
    "    return content\n",
    "\n",
    "def tokenize(doc): #토크나이징\n",
    "    return ['/'.join(t) for t in t.pos(doc, norm=True, stem=True)]\n",
    "\n",
    "wv_model_coin = Word2Vec.load(SAVE_PATH + 'train_wv')\n",
    "\n",
    "\n",
    "def input_news():\n",
    "    content = preprocessing(open('result.txt','rt', encoding='utf-8').read())\n",
    "    \n",
    "    input = [d for d in t.nouns(content)]\n",
    "    \n",
    "    up_sum=0\n",
    "    down_sum=0\n",
    "    for i in input:\n",
    "        try:\n",
    "            a=tokenize(i)\n",
    "            up=tokenize('상승')\n",
    "            down=tokenize('하락')\n",
    "            up_result = wv_model_coin.wv.similarity(a[0], up[0])\n",
    "            down_result = wv_model_coin.wv.similarity(a[0], down[0])\n",
    "            up_sum = up_sum + up_result\n",
    "            down_sum = down_sum + down_result\n",
    "        except:\n",
    "            continue\n",
    "    \n",
    "    if(up_sum > down_sum):\n",
    "        result='상승'\n",
    "    else:\n",
    "        result='하락'\n",
    "    \n",
    "    return result\n",
    "\n",
    "input_news()"
   ]
  },
  {
   "cell_type": "code",
   "execution_count": null,
   "metadata": {},
   "outputs": [],
   "source": []
  }
 ],
 "metadata": {
  "kernelspec": {
   "display_name": "Python [default]",
   "language": "python",
   "name": "python3"
  },
  "language_info": {
   "codemirror_mode": {
    "name": "ipython",
    "version": 3
   },
   "file_extension": ".py",
   "mimetype": "text/x-python",
   "name": "python",
   "nbconvert_exporter": "python",
   "pygments_lexer": "ipython3",
   "version": "3.5.5"
  }
 },
 "nbformat": 4,
 "nbformat_minor": 2
}
